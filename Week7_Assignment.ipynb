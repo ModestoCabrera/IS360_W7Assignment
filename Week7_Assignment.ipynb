{
 "cells": [
  {
   "cell_type": "markdown",
   "metadata": {},
   "source": [
    "# Reading HTML Tables into DataFrame"
   ]
  },
  {
   "cell_type": "code",
   "execution_count": 1,
   "metadata": {
    "collapsed": false
   },
   "outputs": [],
   "source": [
    "import urllib2, argparse\n"
   ]
  },
  {
   "cell_type": "code",
   "execution_count": 31,
   "metadata": {
    "collapsed": true
   },
   "outputs": [],
   "source": [
    "from bs4 import BeautifulSoup"
   ]
  },
  {
   "cell_type": "code",
   "execution_count": 32,
   "metadata": {
    "collapsed": true
   },
   "outputs": [],
   "source": [
    "import pandas as pd"
   ]
  },
  {
   "cell_type": "code",
   "execution_count": 33,
   "metadata": {
    "collapsed": true
   },
   "outputs": [],
   "source": [
    "link = \"https://www.globalpolicy.org/component/content/article/109/27519.html\""
   ]
  },
  {
   "cell_type": "markdown",
   "metadata": {},
   "source": [
    "* I'd previously coded this in a python file so it would be easier for me to find errors."
   ]
  },
  {
   "cell_type": "code",
   "execution_count": 34,
   "metadata": {
    "collapsed": false
   },
   "outputs": [],
   "source": [
    "from week_7_code import *"
   ]
  },
  {
   "cell_type": "markdown",
   "metadata": {},
   "source": [
    "I used a define function that can be used on any url to load the link into python."
   ]
  },
  {
   "cell_type": "code",
   "execution_count": 35,
   "metadata": {
    "collapsed": true
   },
   "outputs": [],
   "source": [
    "download_link = url_download(link)"
   ]
  },
  {
   "cell_type": "markdown",
   "metadata": {},
   "source": [
    "After using the request i've prepared a function to parse the site, find the table and return the values, index and title into python as a tuple."
   ]
  },
  {
   "cell_type": "code",
   "execution_count": 36,
   "metadata": {
    "collapsed": false
   },
   "outputs": [],
   "source": [
    "table_data = parse_site(download_link)"
   ]
  },
  {
   "cell_type": "markdown",
   "metadata": {},
   "source": [
    "* After parsing the table, what is return is a tuple of lists, that include the index, data, and title of the table."
   ]
  },
  {
   "cell_type": "code",
   "execution_count": 37,
   "metadata": {
    "collapsed": false
   },
   "outputs": [],
   "source": [
    "talbe_inf = zip(table_data[1], [n[0] for n in table_data[2]], [n[1] for n in table_data[2]])"
   ]
  },
  {
   "cell_type": "markdown",
   "metadata": {},
   "source": [
    "In order to create a DataFrame i've ziped the cells in the data with the year columns so that it can be further used in the next process of instantiating the DataFrame in the variable table."
   ]
  },
  {
   "cell_type": "code",
   "execution_count": 43,
   "metadata": {
    "collapsed": false
   },
   "outputs": [],
   "source": [
    "table = pd.DataFrame(data = talbe_inf, columns = list(table_data[0]), index = table_data[1])"
   ]
  },
  {
   "cell_type": "code",
   "execution_count": 44,
   "metadata": {
    "collapsed": false
   },
   "outputs": [
    {
     "name": "stdout",
     "output_type": "stream",
     "text": [
      "      Year Internet Users (millions)  \\\n",
      "1995  1995                        16   \n",
      "1996  1996                        36   \n",
      "1997  1997                        70   \n",
      "1998  1998                       147   \n",
      "1999  1999                       248   \n",
      "2000  2000                       361   \n",
      "2001  2001                       513   \n",
      "2002  2002                       587   \n",
      "2003  2003                       719   \n",
      "2004  2004                       817   \n",
      "2005  2005                     1,018   \n",
      "2006  2006                     1,093   \n",
      "2007  2007                     1,319   \n",
      "2008  2008                     1,565   \n",
      "\n",
      "     Internet Users as Percentage of World Population  \n",
      "1995                                              0.4  \n",
      "1996                                              0.9  \n",
      "1997                                              1.7  \n",
      "1998                                              3.6  \n",
      "1999                                              4.1  \n",
      "2000                                              5.8  \n",
      "2001                                              8.6  \n",
      "2002                                              9.4  \n",
      "2003                                             11.1  \n",
      "2004                                             12.7  \n",
      "2005                                             15.7  \n",
      "2006                                             16.7  \n",
      "2007                                             20.0  \n",
      "2008                                             23.3  \n"
     ]
    }
   ],
   "source": [
    "print table"
   ]
  },
  {
   "cell_type": "markdown",
   "metadata": {},
   "source": [
    "* Due to lack of space the table has printed in this way, but other than that the DataFrame object is identical to the data in the HTML table and may be analyzed further now."
   ]
  }
 ],
 "metadata": {
  "kernelspec": {
   "display_name": "Python 2",
   "language": "python",
   "name": "python2"
  },
  "language_info": {
   "codemirror_mode": {
    "name": "ipython",
    "version": 2
   },
   "file_extension": ".py",
   "mimetype": "text/x-python",
   "name": "python",
   "nbconvert_exporter": "python",
   "pygments_lexer": "ipython2",
   "version": "2.7.10"
  }
 },
 "nbformat": 4,
 "nbformat_minor": 0
}
